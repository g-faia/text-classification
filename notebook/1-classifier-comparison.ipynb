{
 "cells": [
  {
   "cell_type": "markdown",
   "metadata": {},
   "source": [
    "## Classifier Comparison\n",
    "\n",
    "In this notebook, we compare some of traditional machine learning algorithms on movie review datasets. "
   ]
  },
  {
   "cell_type": "code",
   "execution_count": 1,
   "metadata": {
    "collapsed": true
   },
   "outputs": [],
   "source": [
    "import sys, argparse\n",
    "sys.path.append('..')\n",
    "import helper\n",
    "import numpy as np\n",
    "from sklearn.feature_extraction.text import TfidfVectorizer \n",
    "from sklearn.neighbors import KNeighborsClassifier\n",
    "from sklearn.svm import LinearSVC\n",
    "from sklearn.linear_model import SGDClassifier, LogisticRegression\n",
    "from sklearn.neural_network import MLPClassifier\n",
    "from sklearn.tree import DecisionTreeClassifier\n",
    "from sklearn.ensemble import RandomForestClassifier, AdaBoostClassifier\n",
    "from sklearn.naive_bayes import GaussianNB\n",
    "from sklearn import metrics"
   ]
  },
  {
   "cell_type": "markdown",
   "metadata": {},
   "source": [
    "### 1. Data preprocessing"
   ]
  },
  {
   "cell_type": "code",
   "execution_count": 2,
   "metadata": {
    "collapsed": true
   },
   "outputs": [],
   "source": [
    "pos_examples = [s.decode(\"utf-8\", \"ignore\").strip() \n",
    "                for s in list(open(helper.mr_pos_data, mode=\"rb\").readlines())]\n",
    "neg_examples = [s.decode(\"utf-8\", \"ignore\").strip() \n",
    "                for s in list(open(helper.mr_neg_data, mode=\"rb\").readlines())]\n",
    "pos_nums, neg_nums = len(pos_examples), len(neg_examples)\n",
    "x = pos_examples + neg_examples\n",
    "x = [helper.clean_str(sentence) for sentence in x]\n",
    "pos_labels = [1 for _ in range(pos_nums)]\n",
    "neg_labels = [0 for _ in range(neg_nums)]\n",
    "y = pos_labels + neg_labels\n",
    "x, y = np.array(x), np.array(y)\n",
    "x_train, y_train, x_dev, y_dev = helper.split_train_dev(x, y)"
   ]
  },
  {
   "cell_type": "code",
   "execution_count": 3,
   "metadata": {
    "collapsed": true
   },
   "outputs": [],
   "source": [
    "tfidf = TfidfVectorizer(min_df=2, ngram_range=(1,2))\n",
    "tfidf.fit(x_train)\n",
    "x_train_tf = tfidf.transform(x_train)\n",
    "x_dev_tf = tfidf.transform(x_dev)"
   ]
  },
  {
   "cell_type": "markdown",
   "metadata": {},
   "source": [
    "### 2. Classifiers\n",
    "\n",
    "We investigate the algorithms most used in today's machine learning community. Each classifier trains on the training data and validates on the testing data."
   ]
  },
  {
   "cell_type": "code",
   "execution_count": 4,
   "metadata": {
    "collapsed": false
   },
   "outputs": [
    {
     "name": "stdout",
     "output_type": "stream",
     "text": [
      "K-Nearest Neighbors - Accuracy: 0.6895\n",
      "             precision    recall  f1-score   support\n",
      "\n",
      "          0       0.91      0.64      0.75       768\n",
      "          1       0.47      0.83      0.60       298\n",
      "\n",
      "avg / total       0.78      0.69      0.71      1066\n",
      "\n",
      "Linear SVC - Accuracy: 0.7880\n",
      "             precision    recall  f1-score   support\n",
      "\n",
      "          0       0.78      0.80      0.79       527\n",
      "          1       0.80      0.78      0.79       539\n",
      "\n",
      "avg / total       0.79      0.79      0.79      1066\n",
      "\n",
      "Linear Classify with SGD - Accuracy: 0.7833\n",
      "             precision    recall  f1-score   support\n",
      "\n",
      "          0       0.86      0.75      0.80       614\n",
      "          1       0.71      0.83      0.76       452\n",
      "\n",
      "avg / total       0.79      0.78      0.78      1066\n",
      "\n",
      "Logistic Regression - Accuracy: 0.7664\n",
      "             precision    recall  f1-score   support\n",
      "\n",
      "          0       0.76      0.77      0.77       528\n",
      "          1       0.77      0.76      0.77       538\n",
      "\n",
      "avg / total       0.77      0.77      0.77      1066\n",
      "\n",
      "MLP - Accuracy: 0.7777\n",
      "             precision    recall  f1-score   support\n",
      "\n",
      "          0       0.78      0.78      0.78       538\n",
      "          1       0.78      0.77      0.78       528\n",
      "\n",
      "avg / total       0.78      0.78      0.78      1066\n",
      "\n",
      "Decision Tree - Accuracy: 0.6107\n",
      "             precision    recall  f1-score   support\n",
      "\n",
      "          0       0.62      0.61      0.62       540\n",
      "          1       0.61      0.61      0.61       526\n",
      "\n",
      "avg / total       0.61      0.61      0.61      1066\n",
      "\n",
      "Random Forest - Accuracy: 0.7186\n",
      "             precision    recall  f1-score   support\n",
      "\n",
      "          0       0.72      0.72      0.72       541\n",
      "          1       0.71      0.72      0.71       525\n",
      "\n",
      "avg / total       0.72      0.72      0.72      1066\n",
      "\n",
      "AdaBoost - Accuracy: 0.6689\n",
      "             precision    recall  f1-score   support\n",
      "\n",
      "          0       0.66      0.68      0.67       528\n",
      "          1       0.68      0.66      0.67       538\n",
      "\n",
      "avg / total       0.67      0.67      0.67      1066\n",
      "\n",
      "Gaussian Naive Bayes - Accuracy: 0.6895\n",
      "             precision    recall  f1-score   support\n",
      "\n",
      "          0       0.73      0.68      0.70       578\n",
      "          1       0.65      0.70      0.67       488\n",
      "\n",
      "avg / total       0.69      0.69      0.69      1066\n",
      "\n"
     ]
    }
   ],
   "source": [
    "classifiers = {\n",
    "    \"K-Nearest Neighbors\": KNeighborsClassifier(7),\n",
    "    \"Linear SVC\": LinearSVC(),\n",
    "    \"Linear Classify with SGD\": SGDClassifier(tol=1e-3),\n",
    "    \"Logistic Regression\": LogisticRegression(),\n",
    "    \"MLP\": MLPClassifier(),\n",
    "    \"Decision Tree\": DecisionTreeClassifier(random_state=0),\n",
    "    \"Random Forest\": RandomForestClassifier(random_state=0, n_estimators=100),\n",
    "    \"AdaBoost\": AdaBoostClassifier(n_estimators=100),\n",
    "    \"Gaussian Naive Bayes\": GaussianNB()\n",
    "}\n",
    "\n",
    "for nam, cla in classifiers.items():\n",
    "    cla.fit(x_train_tf.toarray(), y_train)\n",
    "    predicted = cla.predict(x_dev_tf.toarray())\n",
    "    print(\"{0} - Accuracy: {1:.4f}\".format(\n",
    "        nam, metrics.accuracy_score(predicted, y_dev)))\n",
    "    print(metrics.classification_report(predicted, y_dev))"
   ]
  },
  {
   "cell_type": "markdown",
   "metadata": {},
   "source": [
    "### 3. Results\n",
    "\n",
    "The only metrics used in the picture under is accuracy, and from the comparison of all classifiers, the SVM with SGD optimization is the best one."
   ]
  },
  {
   "cell_type": "code",
   "execution_count": 6,
   "metadata": {
    "collapsed": false
   },
   "outputs": [
    {
     "data": {
      "image/png": "[encoded data removed]",
      "text/plain": [
       "<Figure size 640x480 with 1 Axes>"
      ]
     },
     "metadata": {},
     "output_type": "display_data"
    }
   ],
   "source": [
    "import matplotlib.pyplot as plt\n",
    "\n",
    "plt.rcdefaults()\n",
    "fig, ax = plt.subplots()\n",
    "\n",
    "models = classifiers.keys()\n",
    "y_pos = np.arange(len(models))\n",
    "performance = [0.6895, 0.7880, 0.7833, 0.7664, 0.7777, 0.6107, 0.7186, 0.6689, 0.6895]\n",
    "\n",
    "ax.barh(y_pos, performance, align='center',color='green')\n",
    "ax.set_yticks(y_pos)\n",
    "ax.set_yticklabels(models)\n",
    "ax.invert_yaxis()  # labels read top-to-bottom\n",
    "ax.set_xlabel('Accuracy')\n",
    "ax.set_title('The classification preformance on different models.')\n",
    "\n",
    "plt.show()"
   ]
  },
  {
   "cell_type": "code",
   "execution_count": null,
   "metadata": {
    "collapsed": true
   },
   "outputs": [],
   "source": []
  }
 ],
 "metadata": {
  "kernelspec": {
   "display_name": "Python 3",
   "language": "python",
   "name": "python3"
  },
  "language_info": {
   "codemirror_mode": {
    "name": "ipython",
    "version": 3
   },
   "file_extension": ".py",
   "mimetype": "text/x-python",
   "name": "python",
   "nbconvert_exporter": "python",
   "pygments_lexer": "ipython3",
   "version": "3.6.0"
  }
 },
 "nbformat": 4,
 "nbformat_minor": 2
}
