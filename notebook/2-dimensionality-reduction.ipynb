{
 "cells": [
  {
   "cell_type": "markdown",
   "metadata": {},
   "source": [
    "## Dimensionality Reduction\n",
    "\n",
    "In this notebook, we investigate the effect of dimensionality reduction on the performance of classifiers, and the best algorithm SVM is selected as the baseline in this experiment."
   ]
  },
  {
   "cell_type": "code",
   "execution_count": 1,
   "metadata": {
    "collapsed": false
   },
   "outputs": [
    {
     "name": "stderr",
     "output_type": "stream",
     "text": [
      "/Users/gfaia/Applications/anaconda/lib/python3.6/importlib/_bootstrap.py:205: RuntimeWarning: compiletime version 3.5 of module 'tensorflow.python.framework.fast_tensor_util' does not match runtime version 3.6\n",
      "  return f(*args, **kwds)\n"
     ]
    }
   ],
   "source": [
    "import sys, argparse\n",
    "sys.path.append('..')\n",
    "import helper\n",
    "import numpy as np\n",
    "from sklearn.feature_extraction.text import TfidfVectorizer \n",
    "from sklearn.neighbors import KNeighborsClassifier\n",
    "from sklearn.svm import LinearSVC\n",
    "from sklearn import metrics\n",
    "from sklearn.decomposition import PCA"
   ]
  },
  {
   "cell_type": "markdown",
   "metadata": {},
   "source": [
    "### 1. Data preprocessing"
   ]
  },
  {
   "cell_type": "code",
   "execution_count": 2,
   "metadata": {
    "collapsed": true
   },
   "outputs": [],
   "source": [
    "pos_examples = [s.decode(\"utf-8\", \"ignore\").strip() \n",
    "                for s in list(open(helper.mr_pos_data, mode=\"rb\").readlines())]\n",
    "neg_examples = [s.decode(\"utf-8\", \"ignore\").strip() \n",
    "                for s in list(open(helper.mr_neg_data, mode=\"rb\").readlines())]\n",
    "pos_nums, neg_nums = len(pos_examples), len(neg_examples)\n",
    "x = pos_examples + neg_examples\n",
    "x = [helper.clean_str(sentence) for sentence in x]\n",
    "pos_labels = [1 for _ in range(pos_nums)]\n",
    "neg_labels = [0 for _ in range(neg_nums)]\n",
    "y = pos_labels + neg_labels\n",
    "x, y = np.array(x), np.array(y)"
   ]
  },
  {
   "cell_type": "code",
   "execution_count": 3,
   "metadata": {
    "collapsed": false
   },
   "outputs": [
    {
     "data": {
      "text/plain": [
       "(10662, 29204)"
      ]
     },
     "execution_count": 3,
     "metadata": {},
     "output_type": "execute_result"
    }
   ],
   "source": [
    "tfidf = TfidfVectorizer(min_df=2, ngram_range=(1,2))\n",
    "tfidf.fit(x)\n",
    "x_tf = tfidf.transform(x).toarray()\n",
    "x_tf.shape"
   ]
  },
  {
   "cell_type": "markdown",
   "metadata": {},
   "source": [
    "### 2. Classification performance\n",
    "\n",
    "The dimensionality reduction algorithm may lose some information of original dataset to some extent and this is why those of algorithms reduce the test performance."
   ]
  },
  {
   "cell_type": "code",
   "execution_count": 4,
   "metadata": {
    "collapsed": false
   },
   "outputs": [
    {
     "name": "stdout",
     "output_type": "stream",
     "text": [
      "Accuracy: 0.6717\n",
      "             precision    recall  f1-score   support\n",
      "\n",
      "          0       0.67      0.67      0.67       531\n",
      "          1       0.67      0.67      0.67       535\n",
      "\n",
      "avg / total       0.67      0.67      0.67      1066\n",
      "\n",
      "Accuracy: 0.7233\n",
      "             precision    recall  f1-score   support\n",
      "\n",
      "          0       0.71      0.72      0.72       521\n",
      "          1       0.73      0.72      0.73       545\n",
      "\n",
      "avg / total       0.72      0.72      0.72      1066\n",
      "\n",
      "Accuracy: 0.7702\n",
      "             precision    recall  f1-score   support\n",
      "\n",
      "          0       0.79      0.75      0.77       549\n",
      "          1       0.75      0.79      0.77       517\n",
      "\n",
      "avg / total       0.77      0.77      0.77      1066\n",
      "\n"
     ]
    }
   ],
   "source": [
    "n_dims = [100, 500, 1000]\n",
    "for d in n_dims:\n",
    "    pca = PCA(n_components=d)\n",
    "    x_pca = pca.fit(x_tf).transform(x_tf)\n",
    "    \n",
    "    x_train_tf, y_train, x_dev_tf, y_dev = helper.split_train_dev(x_pca, y)\n",
    "    svc = LinearSVC()\n",
    "    svc.fit(x_train_tf, y_train)\n",
    "    predicted = svc.predict(x_dev_tf)\n",
    "    print(\"Accuracy: {0:.4f}\".format(metrics.accuracy_score(predicted, y_dev)))\n",
    "    print(metrics.classification_report(predicted, y_dev))"
   ]
  },
  {
   "cell_type": "code",
   "execution_count": 6,
   "metadata": {
    "collapsed": false
   },
   "outputs": [
    {
     "data": {
      "image/png": "[encoded data removed]",
      "text/plain": [
       "<matplotlib.figure.Figure at 0x11e6bdd68>"
      ]
     },
     "metadata": {},
     "output_type": "display_data"
    }
   ],
   "source": [
    "import matplotlib.pyplot as plt\n",
    "\n",
    "plt.rcdefaults()\n",
    "fig, ax = plt.subplots()\n",
    "\n",
    "y_pos = np.arange(3)\n",
    "performance = [0.6717, 0.7233, 0.7702]\n",
    "\n",
    "ax.barh(y_pos, performance, align='center',color='blue')\n",
    "ax.set_yticks(y_pos)\n",
    "ax.set_yticklabels([100, 500, 1000])\n",
    "ax.set_xlabel('Accuracy')\n",
    "ax.set_title('The classification performance with different reduction dimension.')\n",
    "\n",
    "plt.show()"
   ]
  }
 ],
 "metadata": {
  "kernelspec": {
   "display_name": "Python 3",
   "language": "python",
   "name": "python3"
  },
  "language_info": {
   "codemirror_mode": {
    "name": "ipython",
    "version": 3
   },
   "file_extension": ".py",
   "mimetype": "text/x-python",
   "name": "python",
   "nbconvert_exporter": "python",
   "pygments_lexer": "ipython3",
   "version": "3.6.0"
  }
 },
 "nbformat": 4,
 "nbformat_minor": 2
}
